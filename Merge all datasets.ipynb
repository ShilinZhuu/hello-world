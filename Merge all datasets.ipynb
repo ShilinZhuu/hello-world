{
 "cells": [
  {
   "cell_type": "code",
   "execution_count": 1,
   "metadata": {},
   "outputs": [],
   "source": [
    "import pandas as pd\n",
    "import numpy as np\n",
    "import matplotlib.pyplot as plt\n",
    "import seaborn as sns\n",
    "import os\n",
    "from datetime import datetime\n",
    "%matplotlib inline"
   ]
  },
  {
   "cell_type": "code",
   "execution_count": 3,
   "metadata": {},
   "outputs": [
    {
     "data": {
      "text/plain": [
       "'C:\\\\Users\\\\ru89110\\\\Documents\\\\PWG EW'"
      ]
     },
     "execution_count": 3,
     "metadata": {},
     "output_type": "execute_result"
    }
   ],
   "source": [
    "%pwd"
   ]
  },
  {
   "cell_type": "code",
   "execution_count": 4,
   "metadata": {},
   "outputs": [],
   "source": [
    "os.chdir(\"10.1\")"
   ]
  },
  {
   "cell_type": "code",
   "execution_count": 5,
   "metadata": {},
   "outputs": [],
   "source": [
    "df=pd.read_excel(\"Combined File 2018.10.xlsx\") "
   ]
  },
  {
   "cell_type": "code",
   "execution_count": 11,
   "metadata": {},
   "outputs": [],
   "source": [
    "os.chdir(\"SUBSETS\")"
   ]
  },
  {
   "cell_type": "code",
   "execution_count": 16,
   "metadata": {},
   "outputs": [],
   "source": [
    "SAMPLEspImpliedBTMU=pd.read_excel(\"SAMPLEspImpliedBTMU.xlsx\")\n",
    "SAMPLEMoodysImpliedBTMU=pd.read_excel(\"SAMPLEMoodysImpliedBTMU.xlsx\")\n",
    "SAMPLEEDFImpliedBTMU=pd.read_excel(\"SAMPLEEDFImpliedBTMU.xlsx\")\n",
    "SAMPLECDSImpliedBTMU=pd.read_excel(\"SAMPLECDSImpliedBTMU.xlsx\")"
   ]
  },
  {
   "cell_type": "markdown",
   "metadata": {},
   "source": [
    "### Combination C51"
   ]
  },
  {
   "cell_type": "code",
   "execution_count": 24,
   "metadata": {},
   "outputs": [],
   "source": [
    "sp=list(SAMPLEspImpliedBTMU.index)\n",
    "Moodys=list(SAMPLEMoodysImpliedBTMU.index)\n",
    "EDF=list(SAMPLEEDFImpliedBTMU.index)\n",
    "CDS=list(SAMPLECDSImpliedBTMU.index)"
   ]
  },
  {
   "cell_type": "code",
   "execution_count": 28,
   "metadata": {},
   "outputs": [
    {
     "data": {
      "text/plain": [
       "2988"
      ]
     },
     "execution_count": 28,
     "metadata": {},
     "output_type": "execute_result"
    }
   ],
   "source": [
    "len(sp)"
   ]
  },
  {
   "cell_type": "code",
   "execution_count": 29,
   "metadata": {},
   "outputs": [
    {
     "data": {
      "text/plain": [
       "1533"
      ]
     },
     "execution_count": 29,
     "metadata": {},
     "output_type": "execute_result"
    }
   ],
   "source": [
    "len(Moodys)"
   ]
  },
  {
   "cell_type": "markdown",
   "metadata": {},
   "source": [
    "### Combination C55"
   ]
  },
  {
   "cell_type": "code",
   "execution_count": 31,
   "metadata": {},
   "outputs": [
    {
     "data": {
      "text/plain": [
       "25646"
      ]
     },
     "execution_count": 31,
     "metadata": {},
     "output_type": "execute_result"
    }
   ],
   "source": [
    "len(sp+Moodys+EDF+CDS)  "
   ]
  },
  {
   "cell_type": "code",
   "execution_count": 33,
   "metadata": {},
   "outputs": [
    {
     "data": {
      "text/plain": [
       "21249"
      ]
     },
     "execution_count": 33,
     "metadata": {},
     "output_type": "execute_result"
    }
   ],
   "source": [
    "len(set(sp+Moodys+EDF+CDS))"
   ]
  },
  {
   "cell_type": "code",
   "execution_count": 36,
   "metadata": {},
   "outputs": [],
   "source": [
    "C55Index=list(set(sp+Moodys+EDF+CDS))"
   ]
  },
  {
   "cell_type": "code",
   "execution_count": 39,
   "metadata": {},
   "outputs": [],
   "source": [
    "C55Df=df.iloc[C55Index,:]"
   ]
  },
  {
   "cell_type": "code",
   "execution_count": 40,
   "metadata": {},
   "outputs": [],
   "source": [
    "C55Df.to_excel('C55Df.xlsx', index  = True)"
   ]
  },
  {
   "cell_type": "code",
   "execution_count": 42,
   "metadata": {
    "scrolled": true
   },
   "outputs": [
    {
     "data": {
      "text/plain": [
       "Index(['As of Date', 'BTM Borrower Rtg', 'BTM Rating', 'Dowgrade ',\n",
       "       'Downgrade Notch', 'CDL Customer ID', 'Cust Regist Nm', 'Division',\n",
       "       'Exposure', 'EDF Implied BTMU Rating', 'EDF Notch', 'EDF Value',\n",
       "       'Notch Diff EDF Implied vs BTMU', 'Secondary Loan Avg Price',\n",
       "       'CDS Implied BTMU Rating', 'CDS Spread (5yr)',\n",
       "       'Notch Diff CDS Implied vs BTMU', 'Moodys Implied BTMU Rating',\n",
       "       'Moodys LT Rating', 'Notch Diff Moodys Implied vs BTMU',\n",
       "       'S&P Implied BTMU Rating', 'S&P LT Rating', 'Moody's Id', 'BIR',\n",
       "       'Index', 'index'],\n",
       "      dtype='object')"
      ]
     },
     "execution_count": 42,
     "metadata": {},
     "output_type": "execute_result"
    }
   ],
   "source": [
    "C55Df.columns"
   ]
  },
  {
   "cell_type": "markdown",
   "metadata": {},
   "source": [
    "### Modeling on C55 Dataset"
   ]
  },
  {
   "cell_type": "code",
   "execution_count": 50,
   "metadata": {},
   "outputs": [],
   "source": [
    "from sklearn.linear_model import LogisticRegression\n",
    "from sklearn.cross_validation import train_test_split\n",
    "from sklearn.metrics import confusion_matrix"
   ]
  },
  {
   "cell_type": "code",
   "execution_count": 51,
   "metadata": {},
   "outputs": [],
   "source": [
    "Y=C55Df['Dowgrade ']"
   ]
  },
  {
   "cell_type": "code",
   "execution_count": 45,
   "metadata": {},
   "outputs": [
    {
     "data": {
      "text/plain": [
       "0    20748\n",
       "1      501\n",
       "Name: Dowgrade , dtype: int64"
      ]
     },
     "execution_count": 45,
     "metadata": {},
     "output_type": "execute_result"
    }
   ],
   "source": [
    "C55Df['Dowgrade '].value_counts()"
   ]
  },
  {
   "cell_type": "code",
   "execution_count": 53,
   "metadata": {},
   "outputs": [
    {
     "data": {
      "text/plain": [
       "<matplotlib.axes._subplots.AxesSubplot at 0x16a795c0>"
      ]
     },
     "execution_count": 53,
     "metadata": {},
     "output_type": "execute_result"
    },
    {
     "data": {
      "image/png": "[encoded data removed]",
      "text/plain": [
       "<Figure size 432x288 with 1 Axes>"
      ]
     },
     "metadata": {},
     "output_type": "display_data"
    }
   ],
   "source": [
    "sns.countplot(x='Dowgrade ',data=C55Df, palette='hls') "
   ]
  },
  {
   "cell_type": "markdown",
   "metadata": {},
   "source": [
    "imbalanced class, needs to further balance the classes\n",
    "up-sample the no-subscription using the SMOTE algorithm  (only over sampling on the training data)"
   ]
  },
  {
   "cell_type": "code",
   "execution_count": 54,
   "metadata": {},
   "outputs": [
    {
     "name": "stdout",
     "output_type": "stream",
     "text": [
      "percentage of no downgrade is 97.64224198785824\n",
      "percentage of subscription 2.3577580121417476\n"
     ]
    }
   ],
   "source": [
    "count_0 = len(C55Df[C55Df['Dowgrade ']==0])\n",
    "count_1 = len(C55Df[C55Df['Dowgrade ']==1])\n",
    "pct_of_0 = count_0/(count_0+count_1)\n",
    "print(\"percentage of no downgrade is\", pct_of_0*100)\n",
    "pct_of_1 = count_1/(count_0+count_1)\n",
    "print(\"percentage of subscription\", pct_of_1*100)"
   ]
  },
  {
   "cell_type": "code",
   "execution_count": null,
   "metadata": {},
   "outputs": [],
   "source": [
    "C55Df.groupby('')"
   ]
  }
 ],
 "metadata": {
  "kernelspec": {
   "display_name": "Python 3",
   "language": "python",
   "name": "python3"
  },
  "language_info": {
   "codemirror_mode": {
    "name": "ipython",
    "version": 3
   },
   "file_extension": ".py",
   "mimetype": "text/x-python",
   "name": "python",
   "nbconvert_exporter": "python",
   "pygments_lexer": "ipython3",
   "version": "3.6.5"
  }
 },
 "nbformat": 4,
 "nbformat_minor": 2
}
